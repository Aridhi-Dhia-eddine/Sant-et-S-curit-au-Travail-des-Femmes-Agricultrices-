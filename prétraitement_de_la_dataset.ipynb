{
  "nbformat": 4,
  "nbformat_minor": 0,
  "metadata": {
    "colab": {
      "provenance": []
    },
    "kernelspec": {
      "name": "python3",
      "display_name": "Python 3"
    },
    "language_info": {
      "name": "python"
    }
  },
  "cells": [
    {
      "cell_type": "code",
      "execution_count": null,
      "metadata": {
        "id": "8k-R6VFLjOli"
      },
      "outputs": [],
      "source": [
        "import pandas as pd\n",
        "df=pd.read_csv('/content/Cleaned SST en agriculture Final2 (2).csv')"
      ]
    },
    {
      "cell_type": "code",
      "source": [
        "#afficher des informations sur la dataset\n",
        "df.info()"
      ],
      "metadata": {
        "colab": {
          "base_uri": "https://localhost:8080/"
        },
        "id": "N_Ts8YXkkRe8",
        "outputId": "f6875727-7168-4fcb-871a-1231a672a8d7"
      },
      "execution_count": null,
      "outputs": [
        {
          "output_type": "stream",
          "name": "stdout",
          "text": [
            "<class 'pandas.core.frame.DataFrame'>\n",
            "RangeIndex: 80 entries, 0 to 79\n",
            "Data columns (total 65 columns):\n",
            " #   Column                                 Non-Null Count  Dtype  \n",
            "---  ------                                 --------------  -----  \n",
            " 0   N°                                     80 non-null     int64  \n",
            " 1   Date de la visite                      80 non-null     object \n",
            " 2   Nom                                    0 non-null      float64\n",
            " 3   Prénom                                 0 non-null      float64\n",
            " 4   N° du téléphone                        0 non-null      float64\n",
            " 5   Date de naissance                      80 non-null     object \n",
            " 6   Age                                    80 non-null     object \n",
            " 7   Situation maritale                     80 non-null     object \n",
            " 8   Nb enfants                             80 non-null     object \n",
            " 9   Nb pers à charge                       80 non-null     object \n",
            " 10  Profession du mari                     80 non-null     object \n",
            " 11  Domicile                               80 non-null     object \n",
            " 12  Niveau socio-économique                80 non-null     object \n",
            " 13  Tabagisme                              80 non-null     object \n",
            " 14  Neffa                                  80 non-null     object \n",
            " 15  Fumées de Tabouna                      80 non-null     object \n",
            " 16  Antécédents familiaux                  80 non-null     object \n",
            " 17  q                                      80 non-null     object \n",
            " 18  Antécédent personnels: chirurgicaux    80 non-null     object \n",
            " 19  AT en milieu agricole                  80 non-null     object \n",
            " 20  H travail / jour                       80 non-null     object \n",
            " 21  Mécanisme AT                           80 non-null     object \n",
            " 22  Ménopause                              80 non-null     object \n",
            " 23  Age ménopause                          80 non-null     object \n",
            " 24  Antécédents gynéco                     80 non-null     object \n",
            " 25  Ancienneté agricole                    80 non-null     object \n",
            " 26  Produits chimiques utilisés            80 non-null     object \n",
            " 27  Troubles gynécologiques                80 non-null     object \n",
            " 28  Professions antérieures                80 non-null     object \n",
            " 29  Catégorie professionnelle              80 non-null     object \n",
            " 30  Statut                                 80 non-null     object \n",
            " 31  Tâches effectuées                      80 non-null     object \n",
            " 32  Contraintes physiques                  80 non-null     object \n",
            " 33  Engrais utilisés                       80 non-null     object \n",
            " 34  Produits biologiques utilisés          80 non-null     object \n",
            " 35  Contraintes thermiques                 80 non-null     object \n",
            " 36  J travail / Sem                        80 non-null     object \n",
            " 37  Masque pour pesticides                 80 non-null     object \n",
            " 38  Bottes                                 80 non-null     object \n",
            " 39  Niveau scolaire                        80 non-null     object \n",
            " 40  Gants                                  80 non-null     object \n",
            " 41  Casquette/Mdhalla                      80 non-null     object \n",
            " 42  Manteau imperméable                    80 non-null     object \n",
            " 43  Moyen de transport                     80 non-null     object \n",
            " 44  Troubles cardio-respiratoires          80 non-null     object \n",
            " 45  Troubles cognitifs                     80 non-null     object \n",
            " 46  Troubles neurologiques                 80 non-null     object \n",
            " 47  Troubles cutanés/phanères              80 non-null     object \n",
            " 48  Autres plaintes:                       80 non-null     object \n",
            " 49  Poids                                  80 non-null     int64  \n",
            " 50  Taille                                 80 non-null     int64  \n",
            " 51  TAS                                    80 non-null     int64  \n",
            " 52  TAD                                    80 non-null     int64  \n",
            " 53  GAD                                    80 non-null     float64\n",
            " 54  Examen cardiovasculaire et pulmonaire  80 non-null     object \n",
            " 55  Examen tête et cou                     80 non-null     object \n",
            " 56  Examen buccodentaire                   80 non-null     object \n",
            " 57  Examen des membres supérieurs          80 non-null     object \n",
            " 58  Examen du rachis                       80 non-null     object \n",
            " 59  Examen des téguments                   80 non-null     object \n",
            " 60  Examen neurologique                    80 non-null     object \n",
            " 61  Examen abdominal                       80 non-null     object \n",
            " 62  Examen visuel                          80 non-null     object \n",
            " 63  Spirométrie                            80 non-null     object \n",
            " 64  Interprétation Spiro                   80 non-null     object \n",
            "dtypes: float64(4), int64(5), object(56)\n",
            "memory usage: 40.8+ KB\n"
          ]
        }
      ]
    },
    {
      "cell_type": "code",
      "source": [
        "#dimensionnenment de la dataset\n",
        "df.shape"
      ],
      "metadata": {
        "colab": {
          "base_uri": "https://localhost:8080/"
        },
        "id": "-6zK7TV60GVU",
        "outputId": "d7ebd1de-4036-4164-f2c5-639cbb2faaa0"
      },
      "execution_count": null,
      "outputs": [
        {
          "output_type": "execute_result",
          "data": {
            "text/plain": [
              "(80, 65)"
            ]
          },
          "metadata": {},
          "execution_count": 80
        }
      ]
    },
    {
      "cell_type": "code",
      "source": [
        "#afficher les 5 premiers lignes de la dataset\n",
        "df.head()"
      ],
      "metadata": {
        "colab": {
          "base_uri": "https://localhost:8080/",
          "height": 411
        },
        "id": "AbeBn9Xokhqr",
        "outputId": "f46a4288-0773-4113-ebc6-d29481319a58"
      },
      "execution_count": null,
      "outputs": [
        {
          "output_type": "execute_result",
          "data": {
            "text/plain": [
              "   N° Date de la visite  Nom  Prénom  N° du téléphone Date de naissance  \\\n",
              "0   1        2024-09-21  NaN     NaN              NaN        1965-01-01   \n",
              "1   2        2024-09-21  NaN     NaN              NaN      non spécifié   \n",
              "2   3        2024-09-21  NaN     NaN              NaN        1965-01-01   \n",
              "3   4        2024-09-21  NaN     NaN              NaN        1977-01-01   \n",
              "4   5        2024-09-21  NaN     NaN              NaN        1982-01-06   \n",
              "\n",
              "            Age Situation maritale Nb enfants Nb pers à charge  ...  \\\n",
              "0            60        célibataire          0                1  ...   \n",
              "1  non spécifié             mariée          1                1  ...   \n",
              "2            60             mariée          4     non spécifié  ...   \n",
              "3            48             mariée          5                0  ...   \n",
              "4            43             mariée          3     non spécifié  ...   \n",
              "\n",
              "  Examen tête et cou Examen buccodentaire Examen des membres supérieurs  \\\n",
              "0       non spécifié         non spécifié                  non spécifié   \n",
              "1       non spécifié         non spécifié                  non spécifié   \n",
              "2       non spécifié         non spécifié               douleurs coudes   \n",
              "3       non spécifié         non spécifié                  non spécifié   \n",
              "4       non spécifié         non spécifié                  non spécifié   \n",
              "\n",
              "   Examen du rachis Examen des téguments Examen neurologique Examen abdominal  \\\n",
              "0      non spécifié         non spécifié        non spécifié     non spécifié   \n",
              "1        lombalgies         non spécifié        non spécifié     non spécifié   \n",
              "2      non spécifié         non spécifié        non spécifié     non spécifié   \n",
              "3      non spécifié         non spécifié        non spécifié     non spécifié   \n",
              "4  lombosciatalgies         non spécifié        non spécifié     non spécifié   \n",
              "\n",
              "                       Examen visuel         Spirométrie Interprétation Spiro  \n",
              "0                       non spécifié  mauvaise exécution                    -  \n",
              "1  pterygion bilatéral - flou visuel           non faite                    -  \n",
              "2                        flou visuel       interprétable                    -  \n",
              "3                                bav           non faite                    -  \n",
              "4                    pterygion droit       interprétable              normale  \n",
              "\n",
              "[5 rows x 65 columns]"
            ],
            "text/html": [
              "\n",
              "  <div id=\"df-64bab7ef-06b7-43a9-8236-83a1673ce095\" class=\"colab-df-container\">\n",
              "    <div>\n",
              "<style scoped>\n",
              "    .dataframe tbody tr th:only-of-type {\n",
              "        vertical-align: middle;\n",
              "    }\n",
              "\n",
              "    .dataframe tbody tr th {\n",
              "        vertical-align: top;\n",
              "    }\n",
              "\n",
              "    .dataframe thead th {\n",
              "        text-align: right;\n",
              "    }\n",
              "</style>\n",
              "<table border=\"1\" class=\"dataframe\">\n",
              "  <thead>\n",
              "    <tr style=\"text-align: right;\">\n",
              "      <th></th>\n",
              "      <th>N°</th>\n",
              "      <th>Date de la visite</th>\n",
              "      <th>Nom</th>\n",
              "      <th>Prénom</th>\n",
              "      <th>N° du téléphone</th>\n",
              "      <th>Date de naissance</th>\n",
              "      <th>Age</th>\n",
              "      <th>Situation maritale</th>\n",
              "      <th>Nb enfants</th>\n",
              "      <th>Nb pers à charge</th>\n",
              "      <th>...</th>\n",
              "      <th>Examen tête et cou</th>\n",
              "      <th>Examen buccodentaire</th>\n",
              "      <th>Examen des membres supérieurs</th>\n",
              "      <th>Examen du rachis</th>\n",
              "      <th>Examen des téguments</th>\n",
              "      <th>Examen neurologique</th>\n",
              "      <th>Examen abdominal</th>\n",
              "      <th>Examen visuel</th>\n",
              "      <th>Spirométrie</th>\n",
              "      <th>Interprétation Spiro</th>\n",
              "    </tr>\n",
              "  </thead>\n",
              "  <tbody>\n",
              "    <tr>\n",
              "      <th>0</th>\n",
              "      <td>1</td>\n",
              "      <td>2024-09-21</td>\n",
              "      <td>NaN</td>\n",
              "      <td>NaN</td>\n",
              "      <td>NaN</td>\n",
              "      <td>1965-01-01</td>\n",
              "      <td>60</td>\n",
              "      <td>célibataire</td>\n",
              "      <td>0</td>\n",
              "      <td>1</td>\n",
              "      <td>...</td>\n",
              "      <td>non spécifié</td>\n",
              "      <td>non spécifié</td>\n",
              "      <td>non spécifié</td>\n",
              "      <td>non spécifié</td>\n",
              "      <td>non spécifié</td>\n",
              "      <td>non spécifié</td>\n",
              "      <td>non spécifié</td>\n",
              "      <td>non spécifié</td>\n",
              "      <td>mauvaise exécution</td>\n",
              "      <td>-</td>\n",
              "    </tr>\n",
              "    <tr>\n",
              "      <th>1</th>\n",
              "      <td>2</td>\n",
              "      <td>2024-09-21</td>\n",
              "      <td>NaN</td>\n",
              "      <td>NaN</td>\n",
              "      <td>NaN</td>\n",
              "      <td>non spécifié</td>\n",
              "      <td>non spécifié</td>\n",
              "      <td>mariée</td>\n",
              "      <td>1</td>\n",
              "      <td>1</td>\n",
              "      <td>...</td>\n",
              "      <td>non spécifié</td>\n",
              "      <td>non spécifié</td>\n",
              "      <td>non spécifié</td>\n",
              "      <td>lombalgies</td>\n",
              "      <td>non spécifié</td>\n",
              "      <td>non spécifié</td>\n",
              "      <td>non spécifié</td>\n",
              "      <td>pterygion bilatéral - flou visuel</td>\n",
              "      <td>non faite</td>\n",
              "      <td>-</td>\n",
              "    </tr>\n",
              "    <tr>\n",
              "      <th>2</th>\n",
              "      <td>3</td>\n",
              "      <td>2024-09-21</td>\n",
              "      <td>NaN</td>\n",
              "      <td>NaN</td>\n",
              "      <td>NaN</td>\n",
              "      <td>1965-01-01</td>\n",
              "      <td>60</td>\n",
              "      <td>mariée</td>\n",
              "      <td>4</td>\n",
              "      <td>non spécifié</td>\n",
              "      <td>...</td>\n",
              "      <td>non spécifié</td>\n",
              "      <td>non spécifié</td>\n",
              "      <td>douleurs coudes</td>\n",
              "      <td>non spécifié</td>\n",
              "      <td>non spécifié</td>\n",
              "      <td>non spécifié</td>\n",
              "      <td>non spécifié</td>\n",
              "      <td>flou visuel</td>\n",
              "      <td>interprétable</td>\n",
              "      <td>-</td>\n",
              "    </tr>\n",
              "    <tr>\n",
              "      <th>3</th>\n",
              "      <td>4</td>\n",
              "      <td>2024-09-21</td>\n",
              "      <td>NaN</td>\n",
              "      <td>NaN</td>\n",
              "      <td>NaN</td>\n",
              "      <td>1977-01-01</td>\n",
              "      <td>48</td>\n",
              "      <td>mariée</td>\n",
              "      <td>5</td>\n",
              "      <td>0</td>\n",
              "      <td>...</td>\n",
              "      <td>non spécifié</td>\n",
              "      <td>non spécifié</td>\n",
              "      <td>non spécifié</td>\n",
              "      <td>non spécifié</td>\n",
              "      <td>non spécifié</td>\n",
              "      <td>non spécifié</td>\n",
              "      <td>non spécifié</td>\n",
              "      <td>bav</td>\n",
              "      <td>non faite</td>\n",
              "      <td>-</td>\n",
              "    </tr>\n",
              "    <tr>\n",
              "      <th>4</th>\n",
              "      <td>5</td>\n",
              "      <td>2024-09-21</td>\n",
              "      <td>NaN</td>\n",
              "      <td>NaN</td>\n",
              "      <td>NaN</td>\n",
              "      <td>1982-01-06</td>\n",
              "      <td>43</td>\n",
              "      <td>mariée</td>\n",
              "      <td>3</td>\n",
              "      <td>non spécifié</td>\n",
              "      <td>...</td>\n",
              "      <td>non spécifié</td>\n",
              "      <td>non spécifié</td>\n",
              "      <td>non spécifié</td>\n",
              "      <td>lombosciatalgies</td>\n",
              "      <td>non spécifié</td>\n",
              "      <td>non spécifié</td>\n",
              "      <td>non spécifié</td>\n",
              "      <td>pterygion droit</td>\n",
              "      <td>interprétable</td>\n",
              "      <td>normale</td>\n",
              "    </tr>\n",
              "  </tbody>\n",
              "</table>\n",
              "<p>5 rows × 65 columns</p>\n",
              "</div>\n",
              "    <div class=\"colab-df-buttons\">\n",
              "\n",
              "  <div class=\"colab-df-container\">\n",
              "    <button class=\"colab-df-convert\" onclick=\"convertToInteractive('df-64bab7ef-06b7-43a9-8236-83a1673ce095')\"\n",
              "            title=\"Convert this dataframe to an interactive table.\"\n",
              "            style=\"display:none;\">\n",
              "\n",
              "  <svg xmlns=\"http://www.w3.org/2000/svg\" height=\"24px\" viewBox=\"0 -960 960 960\">\n",
              "    <path d=\"M120-120v-720h720v720H120Zm60-500h600v-160H180v160Zm220 220h160v-160H400v160Zm0 220h160v-160H400v160ZM180-400h160v-160H180v160Zm440 0h160v-160H620v160ZM180-180h160v-160H180v160Zm440 0h160v-160H620v160Z\"/>\n",
              "  </svg>\n",
              "    </button>\n",
              "\n",
              "  <style>\n",
              "    .colab-df-container {\n",
              "      display:flex;\n",
              "      gap: 12px;\n",
              "    }\n",
              "\n",
              "    .colab-df-convert {\n",
              "      background-color: #E8F0FE;\n",
              "      border: none;\n",
              "      border-radius: 50%;\n",
              "      cursor: pointer;\n",
              "      display: none;\n",
              "      fill: #1967D2;\n",
              "      height: 32px;\n",
              "      padding: 0 0 0 0;\n",
              "      width: 32px;\n",
              "    }\n",
              "\n",
              "    .colab-df-convert:hover {\n",
              "      background-color: #E2EBFA;\n",
              "      box-shadow: 0px 1px 2px rgba(60, 64, 67, 0.3), 0px 1px 3px 1px rgba(60, 64, 67, 0.15);\n",
              "      fill: #174EA6;\n",
              "    }\n",
              "\n",
              "    .colab-df-buttons div {\n",
              "      margin-bottom: 4px;\n",
              "    }\n",
              "\n",
              "    [theme=dark] .colab-df-convert {\n",
              "      background-color: #3B4455;\n",
              "      fill: #D2E3FC;\n",
              "    }\n",
              "\n",
              "    [theme=dark] .colab-df-convert:hover {\n",
              "      background-color: #434B5C;\n",
              "      box-shadow: 0px 1px 3px 1px rgba(0, 0, 0, 0.15);\n",
              "      filter: drop-shadow(0px 1px 2px rgba(0, 0, 0, 0.3));\n",
              "      fill: #FFFFFF;\n",
              "    }\n",
              "  </style>\n",
              "\n",
              "    <script>\n",
              "      const buttonEl =\n",
              "        document.querySelector('#df-64bab7ef-06b7-43a9-8236-83a1673ce095 button.colab-df-convert');\n",
              "      buttonEl.style.display =\n",
              "        google.colab.kernel.accessAllowed ? 'block' : 'none';\n",
              "\n",
              "      async function convertToInteractive(key) {\n",
              "        const element = document.querySelector('#df-64bab7ef-06b7-43a9-8236-83a1673ce095');\n",
              "        const dataTable =\n",
              "          await google.colab.kernel.invokeFunction('convertToInteractive',\n",
              "                                                    [key], {});\n",
              "        if (!dataTable) return;\n",
              "\n",
              "        const docLinkHtml = 'Like what you see? Visit the ' +\n",
              "          '<a target=\"_blank\" href=https://colab.research.google.com/notebooks/data_table.ipynb>data table notebook</a>'\n",
              "          + ' to learn more about interactive tables.';\n",
              "        element.innerHTML = '';\n",
              "        dataTable['output_type'] = 'display_data';\n",
              "        await google.colab.output.renderOutput(dataTable, element);\n",
              "        const docLink = document.createElement('div');\n",
              "        docLink.innerHTML = docLinkHtml;\n",
              "        element.appendChild(docLink);\n",
              "      }\n",
              "    </script>\n",
              "  </div>\n",
              "\n",
              "\n",
              "<div id=\"df-22f12fc8-9ef0-4fc6-9aa2-fe8ea46255f5\">\n",
              "  <button class=\"colab-df-quickchart\" onclick=\"quickchart('df-22f12fc8-9ef0-4fc6-9aa2-fe8ea46255f5')\"\n",
              "            title=\"Suggest charts\"\n",
              "            style=\"display:none;\">\n",
              "\n",
              "<svg xmlns=\"http://www.w3.org/2000/svg\" height=\"24px\"viewBox=\"0 0 24 24\"\n",
              "     width=\"24px\">\n",
              "    <g>\n",
              "        <path d=\"M19 3H5c-1.1 0-2 .9-2 2v14c0 1.1.9 2 2 2h14c1.1 0 2-.9 2-2V5c0-1.1-.9-2-2-2zM9 17H7v-7h2v7zm4 0h-2V7h2v10zm4 0h-2v-4h2v4z\"/>\n",
              "    </g>\n",
              "</svg>\n",
              "  </button>\n",
              "\n",
              "<style>\n",
              "  .colab-df-quickchart {\n",
              "      --bg-color: #E8F0FE;\n",
              "      --fill-color: #1967D2;\n",
              "      --hover-bg-color: #E2EBFA;\n",
              "      --hover-fill-color: #174EA6;\n",
              "      --disabled-fill-color: #AAA;\n",
              "      --disabled-bg-color: #DDD;\n",
              "  }\n",
              "\n",
              "  [theme=dark] .colab-df-quickchart {\n",
              "      --bg-color: #3B4455;\n",
              "      --fill-color: #D2E3FC;\n",
              "      --hover-bg-color: #434B5C;\n",
              "      --hover-fill-color: #FFFFFF;\n",
              "      --disabled-bg-color: #3B4455;\n",
              "      --disabled-fill-color: #666;\n",
              "  }\n",
              "\n",
              "  .colab-df-quickchart {\n",
              "    background-color: var(--bg-color);\n",
              "    border: none;\n",
              "    border-radius: 50%;\n",
              "    cursor: pointer;\n",
              "    display: none;\n",
              "    fill: var(--fill-color);\n",
              "    height: 32px;\n",
              "    padding: 0;\n",
              "    width: 32px;\n",
              "  }\n",
              "\n",
              "  .colab-df-quickchart:hover {\n",
              "    background-color: var(--hover-bg-color);\n",
              "    box-shadow: 0 1px 2px rgba(60, 64, 67, 0.3), 0 1px 3px 1px rgba(60, 64, 67, 0.15);\n",
              "    fill: var(--button-hover-fill-color);\n",
              "  }\n",
              "\n",
              "  .colab-df-quickchart-complete:disabled,\n",
              "  .colab-df-quickchart-complete:disabled:hover {\n",
              "    background-color: var(--disabled-bg-color);\n",
              "    fill: var(--disabled-fill-color);\n",
              "    box-shadow: none;\n",
              "  }\n",
              "\n",
              "  .colab-df-spinner {\n",
              "    border: 2px solid var(--fill-color);\n",
              "    border-color: transparent;\n",
              "    border-bottom-color: var(--fill-color);\n",
              "    animation:\n",
              "      spin 1s steps(1) infinite;\n",
              "  }\n",
              "\n",
              "  @keyframes spin {\n",
              "    0% {\n",
              "      border-color: transparent;\n",
              "      border-bottom-color: var(--fill-color);\n",
              "      border-left-color: var(--fill-color);\n",
              "    }\n",
              "    20% {\n",
              "      border-color: transparent;\n",
              "      border-left-color: var(--fill-color);\n",
              "      border-top-color: var(--fill-color);\n",
              "    }\n",
              "    30% {\n",
              "      border-color: transparent;\n",
              "      border-left-color: var(--fill-color);\n",
              "      border-top-color: var(--fill-color);\n",
              "      border-right-color: var(--fill-color);\n",
              "    }\n",
              "    40% {\n",
              "      border-color: transparent;\n",
              "      border-right-color: var(--fill-color);\n",
              "      border-top-color: var(--fill-color);\n",
              "    }\n",
              "    60% {\n",
              "      border-color: transparent;\n",
              "      border-right-color: var(--fill-color);\n",
              "    }\n",
              "    80% {\n",
              "      border-color: transparent;\n",
              "      border-right-color: var(--fill-color);\n",
              "      border-bottom-color: var(--fill-color);\n",
              "    }\n",
              "    90% {\n",
              "      border-color: transparent;\n",
              "      border-bottom-color: var(--fill-color);\n",
              "    }\n",
              "  }\n",
              "</style>\n",
              "\n",
              "  <script>\n",
              "    async function quickchart(key) {\n",
              "      const quickchartButtonEl =\n",
              "        document.querySelector('#' + key + ' button');\n",
              "      quickchartButtonEl.disabled = true;  // To prevent multiple clicks.\n",
              "      quickchartButtonEl.classList.add('colab-df-spinner');\n",
              "      try {\n",
              "        const charts = await google.colab.kernel.invokeFunction(\n",
              "            'suggestCharts', [key], {});\n",
              "      } catch (error) {\n",
              "        console.error('Error during call to suggestCharts:', error);\n",
              "      }\n",
              "      quickchartButtonEl.classList.remove('colab-df-spinner');\n",
              "      quickchartButtonEl.classList.add('colab-df-quickchart-complete');\n",
              "    }\n",
              "    (() => {\n",
              "      let quickchartButtonEl =\n",
              "        document.querySelector('#df-22f12fc8-9ef0-4fc6-9aa2-fe8ea46255f5 button');\n",
              "      quickchartButtonEl.style.display =\n",
              "        google.colab.kernel.accessAllowed ? 'block' : 'none';\n",
              "    })();\n",
              "  </script>\n",
              "</div>\n",
              "\n",
              "    </div>\n",
              "  </div>\n"
            ],
            "application/vnd.google.colaboratory.intrinsic+json": {
              "type": "dataframe",
              "variable_name": "df"
            }
          },
          "metadata": {},
          "execution_count": 81
        }
      ]
    },
    {
      "cell_type": "code",
      "source": [
        "#suppression de valeurs 'Nom', 'Prénom','N° du téléphone','Date de naissance' puisque il sont vides\n",
        "df=df.drop(columns=['Nom', 'Prénom','N° du téléphone','Date de naissance'])"
      ],
      "metadata": {
        "id": "bBY5yItclMgm"
      },
      "execution_count": null,
      "outputs": []
    },
    {
      "cell_type": "code",
      "source": [
        "#remplacer la valeur non_spécifié par Nan\n",
        "import numpy as np\n",
        "df.replace(\"non spécifié\", np.nan, inplace=True)"
      ],
      "metadata": {
        "id": "mkgbbdGKvuSv"
      },
      "execution_count": null,
      "outputs": []
    },
    {
      "cell_type": "code",
      "source": [
        "# visualisation de dataframe\n",
        "df=df.drop(columns=['N°'])"
      ],
      "metadata": {
        "id": "Dt2hcVzWyqte"
      },
      "execution_count": null,
      "outputs": []
    },
    {
      "cell_type": "code",
      "source": [
        "# Afficher le nombre de Nan dans chaque colonne\n",
        "na_counts = df.isna().sum()\n",
        "for column in df.columns:\n",
        "    nan_count = df[column].isna().sum()\n",
        "    print(f\"Colonne '{column}' : {nan_count} valeurs manquantes (NaN)\")"
      ],
      "metadata": {
        "colab": {
          "base_uri": "https://localhost:8080/"
        },
        "id": "RxZF4iOu6nys",
        "outputId": "861ae4f6-4543-47c4-a486-04f873bf2a03"
      },
      "execution_count": null,
      "outputs": [
        {
          "output_type": "stream",
          "name": "stdout",
          "text": [
            "Colonne 'Date de la visite' : 0 valeurs manquantes (NaN)\n",
            "Colonne 'Age' : 1 valeurs manquantes (NaN)\n",
            "Colonne 'Situation maritale' : 1 valeurs manquantes (NaN)\n",
            "Colonne 'Nb enfants' : 1 valeurs manquantes (NaN)\n",
            "Colonne 'Nb pers à charge' : 30 valeurs manquantes (NaN)\n",
            "Colonne 'Profession du mari' : 12 valeurs manquantes (NaN)\n",
            "Colonne 'Domicile' : 0 valeurs manquantes (NaN)\n",
            "Colonne 'Niveau socio-économique' : 27 valeurs manquantes (NaN)\n",
            "Colonne 'Tabagisme' : 2 valeurs manquantes (NaN)\n",
            "Colonne 'Neffa' : 2 valeurs manquantes (NaN)\n",
            "Colonne 'Fumées de Tabouna' : 1 valeurs manquantes (NaN)\n",
            "Colonne 'Antécédents familiaux' : 15 valeurs manquantes (NaN)\n",
            "Colonne 'q' : 0 valeurs manquantes (NaN)\n",
            "Colonne 'Antécédent personnels: chirurgicaux' : 1 valeurs manquantes (NaN)\n",
            "Colonne 'AT en milieu agricole' : 0 valeurs manquantes (NaN)\n",
            "Colonne 'H travail / jour' : 3 valeurs manquantes (NaN)\n",
            "Colonne 'Mécanisme AT' : 0 valeurs manquantes (NaN)\n",
            "Colonne 'Ménopause' : 0 valeurs manquantes (NaN)\n",
            "Colonne 'Age ménopause' : 51 valeurs manquantes (NaN)\n",
            "Colonne 'Antécédents gynéco' : 6 valeurs manquantes (NaN)\n",
            "Colonne 'Ancienneté agricole' : 3 valeurs manquantes (NaN)\n",
            "Colonne 'Produits chimiques utilisés' : 41 valeurs manquantes (NaN)\n",
            "Colonne 'Troubles gynécologiques' : 74 valeurs manquantes (NaN)\n",
            "Colonne 'Professions antérieures' : 68 valeurs manquantes (NaN)\n",
            "Colonne 'Catégorie professionnelle' : 0 valeurs manquantes (NaN)\n",
            "Colonne 'Statut' : 8 valeurs manquantes (NaN)\n",
            "Colonne 'Tâches effectuées' : 0 valeurs manquantes (NaN)\n",
            "Colonne 'Contraintes physiques' : 6 valeurs manquantes (NaN)\n",
            "Colonne 'Engrais utilisés' : 16 valeurs manquantes (NaN)\n",
            "Colonne 'Produits biologiques utilisés' : 31 valeurs manquantes (NaN)\n",
            "Colonne 'Contraintes thermiques' : 34 valeurs manquantes (NaN)\n",
            "Colonne 'J travail / Sem' : 4 valeurs manquantes (NaN)\n",
            "Colonne 'Masque pour pesticides' : 0 valeurs manquantes (NaN)\n",
            "Colonne 'Bottes' : 0 valeurs manquantes (NaN)\n",
            "Colonne 'Niveau scolaire' : 2 valeurs manquantes (NaN)\n",
            "Colonne 'Gants' : 0 valeurs manquantes (NaN)\n",
            "Colonne 'Casquette/Mdhalla' : 0 valeurs manquantes (NaN)\n",
            "Colonne 'Manteau imperméable' : 0 valeurs manquantes (NaN)\n",
            "Colonne 'Moyen de transport' : 1 valeurs manquantes (NaN)\n",
            "Colonne 'Troubles cardio-respiratoires' : 47 valeurs manquantes (NaN)\n",
            "Colonne 'Troubles cognitifs' : 63 valeurs manquantes (NaN)\n",
            "Colonne 'Troubles neurologiques' : 45 valeurs manquantes (NaN)\n",
            "Colonne 'Troubles cutanés/phanères' : 66 valeurs manquantes (NaN)\n",
            "Colonne 'Autres plaintes:' : 53 valeurs manquantes (NaN)\n",
            "Colonne 'Poids' : 0 valeurs manquantes (NaN)\n",
            "Colonne 'Taille' : 0 valeurs manquantes (NaN)\n",
            "Colonne 'TAS' : 0 valeurs manquantes (NaN)\n",
            "Colonne 'TAD' : 0 valeurs manquantes (NaN)\n",
            "Colonne 'GAD' : 0 valeurs manquantes (NaN)\n",
            "Colonne 'Examen cardiovasculaire et pulmonaire' : 71 valeurs manquantes (NaN)\n",
            "Colonne 'Examen tête et cou' : 71 valeurs manquantes (NaN)\n",
            "Colonne 'Examen buccodentaire' : 72 valeurs manquantes (NaN)\n",
            "Colonne 'Examen des membres supérieurs' : 67 valeurs manquantes (NaN)\n",
            "Colonne 'Examen du rachis' : 60 valeurs manquantes (NaN)\n",
            "Colonne 'Examen des téguments' : 74 valeurs manquantes (NaN)\n",
            "Colonne 'Examen neurologique' : 77 valeurs manquantes (NaN)\n",
            "Colonne 'Examen abdominal' : 73 valeurs manquantes (NaN)\n",
            "Colonne 'Examen visuel' : 64 valeurs manquantes (NaN)\n",
            "Colonne 'Spirométrie' : 0 valeurs manquantes (NaN)\n",
            "Colonne 'Interprétation Spiro' : 0 valeurs manquantes (NaN)\n"
          ]
        }
      ]
    },
    {
      "cell_type": "code",
      "source": [
        "#localiser les valeur value dans âge\n",
        "df['Age'].iloc[25]"
      ],
      "metadata": {
        "colab": {
          "base_uri": "https://localhost:8080/",
          "height": 36
        },
        "id": "cWpKq6Pk9mxo",
        "outputId": "07754d1d-e88e-41f1-c1a2-fb23fc7bf164"
      },
      "execution_count": null,
      "outputs": [
        {
          "output_type": "execute_result",
          "data": {
            "text/plain": [
              "'#VALUE!'"
            ],
            "application/vnd.google.colaboratory.intrinsic+json": {
              "type": "string"
            }
          },
          "metadata": {},
          "execution_count": 85
        }
      ]
    },
    {
      "cell_type": "code",
      "source": [
        "# Suppression de la ligne 13 puisque représente beaucoup de valeur 'non spécifié'\n",
        "(df.iloc[13]).isna().sum()\n",
        "df=df.drop(13)"
      ],
      "metadata": {
        "id": "oDp3aVUKBzHo"
      },
      "execution_count": null,
      "outputs": []
    },
    {
      "cell_type": "code",
      "source": [
        "# nouveau dimensionnement après la suppression des colonnes\n",
        "df.shape"
      ],
      "metadata": {
        "colab": {
          "base_uri": "https://localhost:8080/"
        },
        "id": "6HfSFk75Dvh0",
        "outputId": "df69e44d-c631-4d86-9a38-c106bcb11309"
      },
      "execution_count": null,
      "outputs": [
        {
          "output_type": "execute_result",
          "data": {
            "text/plain": [
              "(79, 60)"
            ]
          },
          "metadata": {},
          "execution_count": 101
        }
      ]
    },
    {
      "cell_type": "code",
      "source": [
        "# remplacer les valeurs nan par 0\n",
        "df.loc[25, 'Age'] =0\n",
        "df.loc[30, 'Age'] =0\n",
        "df.loc[1, 'Age'] =0"
      ],
      "metadata": {
        "id": "ULp_pIvm_BjH"
      },
      "execution_count": null,
      "outputs": []
    },
    {
      "cell_type": "code",
      "source": [
        "# remplacer la valeur de nan dans la colonne âge\n",
        "median_age = int(df['Age'].median())\n",
        "df['Age'] = df['Age'].replace(0, median_age)"
      ],
      "metadata": {
        "id": "TOHhvsKo_Vi5"
      },
      "execution_count": null,
      "outputs": []
    },
    {
      "cell_type": "code",
      "source": [
        "# voir de nouveau le nombres de valeurs Nan pour chaque Attributs\n",
        "na_counts = df.isna().sum()\n",
        "for column in df.columns:\n",
        "    nan_count = df[column].isna().sum()\n",
        "    print(f\"Colonne '{column}' : {nan_count} valeurs manquantes (NaN)\")\n",
        "\n",
        "print(\"max nan columns\",na_counts.max())"
      ],
      "metadata": {
        "colab": {
          "base_uri": "https://localhost:8080/"
        },
        "id": "yD9bb9sgAUWM",
        "outputId": "32d36be4-def3-45d8-d981-5ffd84519bd8"
      },
      "execution_count": null,
      "outputs": [
        {
          "output_type": "stream",
          "name": "stdout",
          "text": [
            "Colonne 'Date de la visite' : 0 valeurs manquantes (NaN)\n",
            "Colonne 'Age' : 0 valeurs manquantes (NaN)\n",
            "Colonne 'Situation maritale' : 0 valeurs manquantes (NaN)\n",
            "Colonne 'Nb enfants' : 0 valeurs manquantes (NaN)\n",
            "Colonne 'Nb pers à charge' : 29 valeurs manquantes (NaN)\n",
            "Colonne 'Profession du mari' : 11 valeurs manquantes (NaN)\n",
            "Colonne 'Domicile' : 0 valeurs manquantes (NaN)\n",
            "Colonne 'Niveau socio-économique' : 26 valeurs manquantes (NaN)\n",
            "Colonne 'Tabagisme' : 2 valeurs manquantes (NaN)\n",
            "Colonne 'Neffa' : 2 valeurs manquantes (NaN)\n",
            "Colonne 'Fumées de Tabouna' : 1 valeurs manquantes (NaN)\n",
            "Colonne 'Antécédents familiaux' : 14 valeurs manquantes (NaN)\n",
            "Colonne 'q' : 0 valeurs manquantes (NaN)\n",
            "Colonne 'Antécédent personnels: chirurgicaux' : 1 valeurs manquantes (NaN)\n",
            "Colonne 'AT en milieu agricole' : 0 valeurs manquantes (NaN)\n",
            "Colonne 'H travail / jour' : 3 valeurs manquantes (NaN)\n",
            "Colonne 'Mécanisme AT' : 0 valeurs manquantes (NaN)\n",
            "Colonne 'Ménopause' : 0 valeurs manquantes (NaN)\n",
            "Colonne 'Age ménopause' : 51 valeurs manquantes (NaN)\n",
            "Colonne 'Antécédents gynéco' : 5 valeurs manquantes (NaN)\n",
            "Colonne 'Ancienneté agricole' : 3 valeurs manquantes (NaN)\n",
            "Colonne 'Produits chimiques utilisés' : 40 valeurs manquantes (NaN)\n",
            "Colonne 'Troubles gynécologiques' : 73 valeurs manquantes (NaN)\n",
            "Colonne 'Professions antérieures' : 67 valeurs manquantes (NaN)\n",
            "Colonne 'Catégorie professionnelle' : 0 valeurs manquantes (NaN)\n",
            "Colonne 'Statut' : 8 valeurs manquantes (NaN)\n",
            "Colonne 'Tâches effectuées' : 0 valeurs manquantes (NaN)\n",
            "Colonne 'Contraintes physiques' : 6 valeurs manquantes (NaN)\n",
            "Colonne 'Engrais utilisés' : 16 valeurs manquantes (NaN)\n",
            "Colonne 'Produits biologiques utilisés' : 31 valeurs manquantes (NaN)\n",
            "Colonne 'Contraintes thermiques' : 34 valeurs manquantes (NaN)\n",
            "Colonne 'J travail / Sem' : 4 valeurs manquantes (NaN)\n",
            "Colonne 'Masque pour pesticides' : 0 valeurs manquantes (NaN)\n",
            "Colonne 'Bottes' : 0 valeurs manquantes (NaN)\n",
            "Colonne 'Niveau scolaire' : 1 valeurs manquantes (NaN)\n",
            "Colonne 'Gants' : 0 valeurs manquantes (NaN)\n",
            "Colonne 'Casquette/Mdhalla' : 0 valeurs manquantes (NaN)\n",
            "Colonne 'Manteau imperméable' : 0 valeurs manquantes (NaN)\n",
            "Colonne 'Moyen de transport' : 1 valeurs manquantes (NaN)\n",
            "Colonne 'Troubles cardio-respiratoires' : 46 valeurs manquantes (NaN)\n",
            "Colonne 'Troubles cognitifs' : 62 valeurs manquantes (NaN)\n",
            "Colonne 'Troubles neurologiques' : 44 valeurs manquantes (NaN)\n",
            "Colonne 'Troubles cutanés/phanères' : 65 valeurs manquantes (NaN)\n",
            "Colonne 'Autres plaintes:' : 52 valeurs manquantes (NaN)\n",
            "Colonne 'Poids' : 0 valeurs manquantes (NaN)\n",
            "Colonne 'Taille' : 0 valeurs manquantes (NaN)\n",
            "Colonne 'TAS' : 0 valeurs manquantes (NaN)\n",
            "Colonne 'TAD' : 0 valeurs manquantes (NaN)\n",
            "Colonne 'GAD' : 0 valeurs manquantes (NaN)\n",
            "Colonne 'Examen cardiovasculaire et pulmonaire' : 70 valeurs manquantes (NaN)\n",
            "Colonne 'Examen tête et cou' : 70 valeurs manquantes (NaN)\n",
            "Colonne 'Examen buccodentaire' : 71 valeurs manquantes (NaN)\n",
            "Colonne 'Examen des membres supérieurs' : 66 valeurs manquantes (NaN)\n",
            "Colonne 'Examen du rachis' : 59 valeurs manquantes (NaN)\n",
            "Colonne 'Examen des téguments' : 73 valeurs manquantes (NaN)\n",
            "Colonne 'Examen neurologique' : 76 valeurs manquantes (NaN)\n",
            "Colonne 'Examen abdominal' : 72 valeurs manquantes (NaN)\n",
            "Colonne 'Examen visuel' : 63 valeurs manquantes (NaN)\n",
            "Colonne 'Spirométrie' : 0 valeurs manquantes (NaN)\n",
            "Colonne 'Interprétation Spiro' : 0 valeurs manquantes (NaN)\n",
            "max nan columns 76\n"
          ]
        }
      ]
    },
    {
      "cell_type": "code",
      "source": [
        "# suppression de la colonne Examen neurologique\n",
        "df=df.drop(columns=['Examen neurologique'])"
      ],
      "metadata": {
        "id": "m9LS8bD7E8U6"
      },
      "execution_count": null,
      "outputs": []
    },
    {
      "cell_type": "code",
      "source": [
        "# remplacer par la valeur rien dans Profession du mari par chômeur\n",
        "df['Profession du mari']=df['Profession du mari'].replace('rien','chômeur')\n",
        "df['Profession du mari'].iloc[16]"
      ],
      "metadata": {
        "colab": {
          "base_uri": "https://localhost:8080/",
          "height": 36
        },
        "id": "mxNnyMk7FqCg",
        "outputId": "c2dc7389-3728-4dda-cfea-b1f393cd6928"
      },
      "execution_count": null,
      "outputs": [
        {
          "output_type": "execute_result",
          "data": {
            "text/plain": [
              "'chômeur'"
            ],
            "application/vnd.google.colaboratory.intrinsic+json": {
              "type": "string"
            }
          },
          "metadata": {},
          "execution_count": 111
        }
      ]
    },
    {
      "cell_type": "code",
      "source": [
        "#remplacer la valeur 0 par Nan\n",
        "df['Profession du mari']=df['Profession du mari'].replace('0',np.nan)"
      ],
      "metadata": {
        "id": "u0vztnECIoDc"
      },
      "execution_count": null,
      "outputs": []
    },
    {
      "cell_type": "code",
      "source": [
        "df['Profession du mari'].iloc[33]"
      ],
      "metadata": {
        "colab": {
          "base_uri": "https://localhost:8080/"
        },
        "id": "fu31765sJl6l",
        "outputId": "7ad76649-1094-410d-8d01-332bcf8ee76e"
      },
      "execution_count": null,
      "outputs": [
        {
          "output_type": "execute_result",
          "data": {
            "text/plain": [
              "nan"
            ]
          },
          "metadata": {},
          "execution_count": 116
        }
      ]
    },
    {
      "cell_type": "code",
      "source": [
        "#suppression de la colonne Neffa\n",
        "df=df.drop(columns=['Neffa'])"
      ],
      "metadata": {
        "id": "1nkb_irPJ0lN"
      },
      "execution_count": null,
      "outputs": []
    },
    {
      "cell_type": "code",
      "source": [
        "df.info()"
      ],
      "metadata": {
        "colab": {
          "base_uri": "https://localhost:8080/"
        },
        "id": "1EDFYIL2apX_",
        "outputId": "2568576b-3460-4089-a313-5301ca8c422e"
      },
      "execution_count": null,
      "outputs": [
        {
          "output_type": "stream",
          "name": "stdout",
          "text": [
            "<class 'pandas.core.frame.DataFrame'>\n",
            "Index: 79 entries, 0 to 79\n",
            "Data columns (total 58 columns):\n",
            " #   Column                                 Non-Null Count  Dtype  \n",
            "---  ------                                 --------------  -----  \n",
            " 0   Date de la visite                      79 non-null     object \n",
            " 1   Age                                    79 non-null     object \n",
            " 2   Situation maritale                     79 non-null     object \n",
            " 3   Nb enfants                             79 non-null     object \n",
            " 4   Nb pers à charge                       50 non-null     object \n",
            " 5   Profession du mari                     57 non-null     object \n",
            " 6   Domicile                               79 non-null     object \n",
            " 7   Niveau socio-économique                53 non-null     object \n",
            " 8   Tabagisme                              77 non-null     object \n",
            " 9   Fumées de Tabouna                      78 non-null     object \n",
            " 10  Antécédents familiaux                  65 non-null     object \n",
            " 11  q                                      79 non-null     object \n",
            " 12  Antécédent personnels: chirurgicaux    78 non-null     object \n",
            " 13  AT en milieu agricole                  79 non-null     object \n",
            " 14  H travail / jour                       76 non-null     object \n",
            " 15  Mécanisme AT                           79 non-null     object \n",
            " 16  Ménopause                              79 non-null     object \n",
            " 17  Age ménopause                          28 non-null     object \n",
            " 18  Antécédents gynéco                     74 non-null     object \n",
            " 19  Ancienneté agricole                    76 non-null     object \n",
            " 20  Produits chimiques utilisés            39 non-null     object \n",
            " 21  Troubles gynécologiques                6 non-null      object \n",
            " 22  Professions antérieures                12 non-null     object \n",
            " 23  Catégorie professionnelle              79 non-null     object \n",
            " 24  Statut                                 71 non-null     object \n",
            " 25  Tâches effectuées                      79 non-null     object \n",
            " 26  Contraintes physiques                  73 non-null     object \n",
            " 27  Engrais utilisés                       63 non-null     object \n",
            " 28  Produits biologiques utilisés          48 non-null     object \n",
            " 29  Contraintes thermiques                 45 non-null     object \n",
            " 30  J travail / Sem                        75 non-null     object \n",
            " 31  Masque pour pesticides                 79 non-null     object \n",
            " 32  Bottes                                 79 non-null     object \n",
            " 33  Niveau scolaire                        78 non-null     object \n",
            " 34  Gants                                  79 non-null     object \n",
            " 35  Casquette/Mdhalla                      79 non-null     object \n",
            " 36  Manteau imperméable                    79 non-null     object \n",
            " 37  Moyen de transport                     78 non-null     object \n",
            " 38  Troubles cardio-respiratoires          33 non-null     object \n",
            " 39  Troubles cognitifs                     17 non-null     object \n",
            " 40  Troubles neurologiques                 35 non-null     object \n",
            " 41  Troubles cutanés/phanères              14 non-null     object \n",
            " 42  Autres plaintes:                       27 non-null     object \n",
            " 43  Poids                                  79 non-null     int64  \n",
            " 44  Taille                                 79 non-null     int64  \n",
            " 45  TAS                                    79 non-null     int64  \n",
            " 46  TAD                                    79 non-null     int64  \n",
            " 47  GAD                                    79 non-null     float64\n",
            " 48  Examen cardiovasculaire et pulmonaire  9 non-null      object \n",
            " 49  Examen tête et cou                     9 non-null      object \n",
            " 50  Examen buccodentaire                   8 non-null      object \n",
            " 51  Examen des membres supérieurs          13 non-null     object \n",
            " 52  Examen du rachis                       20 non-null     object \n",
            " 53  Examen des téguments                   6 non-null      object \n",
            " 54  Examen abdominal                       7 non-null      object \n",
            " 55  Examen visuel                          16 non-null     object \n",
            " 56  Spirométrie                            79 non-null     object \n",
            " 57  Interprétation Spiro                   79 non-null     object \n",
            "dtypes: float64(1), int64(4), object(53)\n",
            "memory usage: 36.4+ KB\n"
          ]
        }
      ]
    },
    {
      "cell_type": "code",
      "source": [
        "#suppression d'autre colonne qui représente le plus grands nombre de valeurs Nan\n",
        "df=df.drop(columns=['Troubles gynécologiques','Professions antérieures','Examen cardiovasculaire et pulmonaire','Examen tête et cou','Examen buccodentaire','Examen des téguments','Examen abdominal'])"
      ],
      "metadata": {
        "id": "TbuL9R5yxBuh"
      },
      "execution_count": 124,
      "outputs": []
    },
    {
      "cell_type": "code",
      "source": [
        "df.info()"
      ],
      "metadata": {
        "colab": {
          "base_uri": "https://localhost:8080/"
        },
        "id": "XxktUtdWxkCk",
        "outputId": "e253d056-1b64-425a-d1bc-52826c39c8ee"
      },
      "execution_count": 127,
      "outputs": [
        {
          "output_type": "stream",
          "name": "stdout",
          "text": [
            "<class 'pandas.core.frame.DataFrame'>\n",
            "Index: 79 entries, 0 to 79\n",
            "Data columns (total 51 columns):\n",
            " #   Column                               Non-Null Count  Dtype  \n",
            "---  ------                               --------------  -----  \n",
            " 0   Date de la visite                    79 non-null     object \n",
            " 1   Age                                  79 non-null     object \n",
            " 2   Situation maritale                   79 non-null     object \n",
            " 3   Nb enfants                           79 non-null     object \n",
            " 4   Nb pers à charge                     50 non-null     object \n",
            " 5   Profession du mari                   57 non-null     object \n",
            " 6   Domicile                             79 non-null     object \n",
            " 7   Niveau socio-économique              53 non-null     object \n",
            " 8   Tabagisme                            77 non-null     object \n",
            " 9   Fumées de Tabouna                    78 non-null     object \n",
            " 10  Antécédents familiaux                65 non-null     object \n",
            " 11  q                                    79 non-null     object \n",
            " 12  Antécédent personnels: chirurgicaux  78 non-null     object \n",
            " 13  AT en milieu agricole                79 non-null     object \n",
            " 14  H travail / jour                     76 non-null     object \n",
            " 15  Mécanisme AT                         79 non-null     object \n",
            " 16  Ménopause                            79 non-null     object \n",
            " 17  Age ménopause                        28 non-null     object \n",
            " 18  Antécédents gynéco                   74 non-null     object \n",
            " 19  Ancienneté agricole                  76 non-null     object \n",
            " 20  Produits chimiques utilisés          39 non-null     object \n",
            " 21  Catégorie professionnelle            79 non-null     object \n",
            " 22  Statut                               71 non-null     object \n",
            " 23  Tâches effectuées                    79 non-null     object \n",
            " 24  Contraintes physiques                73 non-null     object \n",
            " 25  Engrais utilisés                     63 non-null     object \n",
            " 26  Produits biologiques utilisés        48 non-null     object \n",
            " 27  Contraintes thermiques               45 non-null     object \n",
            " 28  J travail / Sem                      75 non-null     object \n",
            " 29  Masque pour pesticides               79 non-null     object \n",
            " 30  Bottes                               79 non-null     object \n",
            " 31  Niveau scolaire                      78 non-null     object \n",
            " 32  Gants                                79 non-null     object \n",
            " 33  Casquette/Mdhalla                    79 non-null     object \n",
            " 34  Manteau imperméable                  79 non-null     object \n",
            " 35  Moyen de transport                   78 non-null     object \n",
            " 36  Troubles cardio-respiratoires        33 non-null     object \n",
            " 37  Troubles cognitifs                   17 non-null     object \n",
            " 38  Troubles neurologiques               35 non-null     object \n",
            " 39  Troubles cutanés/phanères            14 non-null     object \n",
            " 40  Autres plaintes:                     27 non-null     object \n",
            " 41  Poids                                79 non-null     int64  \n",
            " 42  Taille                               79 non-null     int64  \n",
            " 43  TAS                                  79 non-null     int64  \n",
            " 44  TAD                                  79 non-null     int64  \n",
            " 45  GAD                                  79 non-null     float64\n",
            " 46  Examen des membres supérieurs        13 non-null     object \n",
            " 47  Examen du rachis                     20 non-null     object \n",
            " 48  Examen visuel                        16 non-null     object \n",
            " 49  Spirométrie                          79 non-null     object \n",
            " 50  Interprétation Spiro                 79 non-null     object \n",
            "dtypes: float64(1), int64(4), object(46)\n",
            "memory usage: 32.1+ KB\n"
          ]
        }
      ]
    },
    {
      "cell_type": "code",
      "source": [
        "nan_count_per_row = df.isna().sum(axis=1)\n",
        "\n",
        "# Afficher le résultat\n",
        "for index, nan_count in nan_count_per_row.items():\n",
        "    print(f\"Ligne {index} a {nan_count} valeur(s) NaN\")"
      ],
      "metadata": {
        "colab": {
          "base_uri": "https://localhost:8080/"
        },
        "id": "MkrZwF1WxwnH",
        "outputId": "74b5ea84-9e1a-4a4b-a240-5d533a52f592"
      },
      "execution_count": 130,
      "outputs": [
        {
          "output_type": "stream",
          "name": "stdout",
          "text": [
            "Ligne 0 a 9 valeur(s) NaN\n",
            "Ligne 1 a 9 valeur(s) NaN\n",
            "Ligne 2 a 9 valeur(s) NaN\n",
            "Ligne 3 a 11 valeur(s) NaN\n",
            "Ligne 4 a 10 valeur(s) NaN\n",
            "Ligne 5 a 11 valeur(s) NaN\n",
            "Ligne 6 a 10 valeur(s) NaN\n",
            "Ligne 7 a 11 valeur(s) NaN\n",
            "Ligne 8 a 9 valeur(s) NaN\n",
            "Ligne 9 a 7 valeur(s) NaN\n",
            "Ligne 10 a 6 valeur(s) NaN\n",
            "Ligne 11 a 8 valeur(s) NaN\n",
            "Ligne 12 a 9 valeur(s) NaN\n",
            "Ligne 14 a 14 valeur(s) NaN\n",
            "Ligne 15 a 7 valeur(s) NaN\n",
            "Ligne 16 a 10 valeur(s) NaN\n",
            "Ligne 17 a 8 valeur(s) NaN\n",
            "Ligne 18 a 11 valeur(s) NaN\n",
            "Ligne 19 a 11 valeur(s) NaN\n",
            "Ligne 20 a 9 valeur(s) NaN\n",
            "Ligne 21 a 9 valeur(s) NaN\n",
            "Ligne 22 a 9 valeur(s) NaN\n",
            "Ligne 23 a 10 valeur(s) NaN\n",
            "Ligne 24 a 11 valeur(s) NaN\n",
            "Ligne 25 a 10 valeur(s) NaN\n",
            "Ligne 26 a 10 valeur(s) NaN\n",
            "Ligne 27 a 8 valeur(s) NaN\n",
            "Ligne 28 a 7 valeur(s) NaN\n",
            "Ligne 29 a 8 valeur(s) NaN\n",
            "Ligne 30 a 6 valeur(s) NaN\n",
            "Ligne 31 a 8 valeur(s) NaN\n",
            "Ligne 32 a 10 valeur(s) NaN\n",
            "Ligne 33 a 11 valeur(s) NaN\n",
            "Ligne 34 a 12 valeur(s) NaN\n",
            "Ligne 35 a 10 valeur(s) NaN\n",
            "Ligne 36 a 13 valeur(s) NaN\n",
            "Ligne 37 a 6 valeur(s) NaN\n",
            "Ligne 38 a 11 valeur(s) NaN\n",
            "Ligne 39 a 14 valeur(s) NaN\n",
            "Ligne 40 a 11 valeur(s) NaN\n",
            "Ligne 41 a 10 valeur(s) NaN\n",
            "Ligne 42 a 5 valeur(s) NaN\n",
            "Ligne 43 a 7 valeur(s) NaN\n",
            "Ligne 44 a 13 valeur(s) NaN\n",
            "Ligne 45 a 14 valeur(s) NaN\n",
            "Ligne 46 a 6 valeur(s) NaN\n",
            "Ligne 47 a 8 valeur(s) NaN\n",
            "Ligne 48 a 10 valeur(s) NaN\n",
            "Ligne 49 a 8 valeur(s) NaN\n",
            "Ligne 50 a 7 valeur(s) NaN\n",
            "Ligne 51 a 12 valeur(s) NaN\n",
            "Ligne 52 a 9 valeur(s) NaN\n",
            "Ligne 53 a 6 valeur(s) NaN\n",
            "Ligne 54 a 5 valeur(s) NaN\n",
            "Ligne 55 a 9 valeur(s) NaN\n",
            "Ligne 56 a 7 valeur(s) NaN\n",
            "Ligne 57 a 10 valeur(s) NaN\n",
            "Ligne 58 a 4 valeur(s) NaN\n",
            "Ligne 59 a 8 valeur(s) NaN\n",
            "Ligne 60 a 15 valeur(s) NaN\n",
            "Ligne 61 a 7 valeur(s) NaN\n",
            "Ligne 62 a 7 valeur(s) NaN\n",
            "Ligne 63 a 9 valeur(s) NaN\n",
            "Ligne 64 a 11 valeur(s) NaN\n",
            "Ligne 65 a 11 valeur(s) NaN\n",
            "Ligne 66 a 13 valeur(s) NaN\n",
            "Ligne 67 a 16 valeur(s) NaN\n",
            "Ligne 68 a 10 valeur(s) NaN\n",
            "Ligne 69 a 12 valeur(s) NaN\n",
            "Ligne 70 a 7 valeur(s) NaN\n",
            "Ligne 71 a 10 valeur(s) NaN\n",
            "Ligne 72 a 10 valeur(s) NaN\n",
            "Ligne 73 a 10 valeur(s) NaN\n",
            "Ligne 74 a 11 valeur(s) NaN\n",
            "Ligne 75 a 9 valeur(s) NaN\n",
            "Ligne 76 a 16 valeur(s) NaN\n",
            "Ligne 77 a 13 valeur(s) NaN\n",
            "Ligne 78 a 10 valeur(s) NaN\n",
            "Ligne 79 a 7 valeur(s) NaN\n"
          ]
        }
      ]
    },
    {
      "cell_type": "code",
      "source": [
        "df.shape"
      ],
      "metadata": {
        "colab": {
          "base_uri": "https://localhost:8080/"
        },
        "id": "PrzLyXebz3ja",
        "outputId": "0adddb6f-6f2e-448e-fa9e-02ba8e8d500a"
      },
      "execution_count": 133,
      "outputs": [
        {
          "output_type": "execute_result",
          "data": {
            "text/plain": [
              "(79, 51)"
            ]
          },
          "metadata": {},
          "execution_count": 133
        }
      ]
    },
    {
      "cell_type": "code",
      "source": [
        "#enlever la colonne Date de la visite\n",
        "df=df.drop(columns=['Date de la visite'])"
      ],
      "metadata": {
        "id": "v7OpQweH0IdA"
      },
      "execution_count": 134,
      "outputs": []
    },
    {
      "cell_type": "code",
      "source": [
        "for column in df.columns:\n",
        "    nan_count = df[column].isna().sum()\n",
        "    print(f\"Colonne '{column}' : {nan_count} valeurs manquantes (NaN)\")"
      ],
      "metadata": {
        "colab": {
          "base_uri": "https://localhost:8080/"
        },
        "id": "Re69Jl1D3Ica",
        "outputId": "599c4703-beeb-4d9e-f6f3-16d9f69c57a0"
      },
      "execution_count": 137,
      "outputs": [
        {
          "output_type": "stream",
          "name": "stdout",
          "text": [
            "Colonne 'Age' : 0 valeurs manquantes (NaN)\n",
            "Colonne 'Situation maritale' : 0 valeurs manquantes (NaN)\n",
            "Colonne 'Nb enfants' : 0 valeurs manquantes (NaN)\n",
            "Colonne 'Nb pers à charge' : 29 valeurs manquantes (NaN)\n",
            "Colonne 'Profession du mari' : 22 valeurs manquantes (NaN)\n",
            "Colonne 'Domicile' : 0 valeurs manquantes (NaN)\n",
            "Colonne 'Niveau socio-économique' : 26 valeurs manquantes (NaN)\n",
            "Colonne 'Tabagisme' : 2 valeurs manquantes (NaN)\n",
            "Colonne 'Fumées de Tabouna' : 1 valeurs manquantes (NaN)\n",
            "Colonne 'Antécédents familiaux' : 14 valeurs manquantes (NaN)\n",
            "Colonne 'q' : 0 valeurs manquantes (NaN)\n",
            "Colonne 'Antécédent personnels: chirurgicaux' : 1 valeurs manquantes (NaN)\n",
            "Colonne 'AT en milieu agricole' : 0 valeurs manquantes (NaN)\n",
            "Colonne 'H travail / jour' : 3 valeurs manquantes (NaN)\n",
            "Colonne 'Mécanisme AT' : 0 valeurs manquantes (NaN)\n",
            "Colonne 'Ménopause' : 0 valeurs manquantes (NaN)\n",
            "Colonne 'Age ménopause' : 51 valeurs manquantes (NaN)\n",
            "Colonne 'Antécédents gynéco' : 5 valeurs manquantes (NaN)\n",
            "Colonne 'Ancienneté agricole' : 3 valeurs manquantes (NaN)\n",
            "Colonne 'Produits chimiques utilisés' : 40 valeurs manquantes (NaN)\n",
            "Colonne 'Catégorie professionnelle' : 0 valeurs manquantes (NaN)\n",
            "Colonne 'Statut' : 8 valeurs manquantes (NaN)\n",
            "Colonne 'Tâches effectuées' : 0 valeurs manquantes (NaN)\n",
            "Colonne 'Contraintes physiques' : 6 valeurs manquantes (NaN)\n",
            "Colonne 'Engrais utilisés' : 16 valeurs manquantes (NaN)\n",
            "Colonne 'Produits biologiques utilisés' : 31 valeurs manquantes (NaN)\n",
            "Colonne 'Contraintes thermiques' : 34 valeurs manquantes (NaN)\n",
            "Colonne 'J travail / Sem' : 4 valeurs manquantes (NaN)\n",
            "Colonne 'Masque pour pesticides' : 0 valeurs manquantes (NaN)\n",
            "Colonne 'Bottes' : 0 valeurs manquantes (NaN)\n",
            "Colonne 'Niveau scolaire' : 1 valeurs manquantes (NaN)\n",
            "Colonne 'Gants' : 0 valeurs manquantes (NaN)\n",
            "Colonne 'Casquette/Mdhalla' : 0 valeurs manquantes (NaN)\n",
            "Colonne 'Manteau imperméable' : 0 valeurs manquantes (NaN)\n",
            "Colonne 'Moyen de transport' : 1 valeurs manquantes (NaN)\n",
            "Colonne 'Troubles cardio-respiratoires' : 46 valeurs manquantes (NaN)\n",
            "Colonne 'Troubles cognitifs' : 62 valeurs manquantes (NaN)\n",
            "Colonne 'Troubles neurologiques' : 44 valeurs manquantes (NaN)\n",
            "Colonne 'Troubles cutanés/phanères' : 65 valeurs manquantes (NaN)\n",
            "Colonne 'Autres plaintes:' : 52 valeurs manquantes (NaN)\n",
            "Colonne 'Poids' : 0 valeurs manquantes (NaN)\n",
            "Colonne 'Taille' : 0 valeurs manquantes (NaN)\n",
            "Colonne 'TAS' : 0 valeurs manquantes (NaN)\n",
            "Colonne 'TAD' : 0 valeurs manquantes (NaN)\n",
            "Colonne 'GAD' : 0 valeurs manquantes (NaN)\n",
            "Colonne 'Examen des membres supérieurs' : 66 valeurs manquantes (NaN)\n",
            "Colonne 'Examen du rachis' : 59 valeurs manquantes (NaN)\n",
            "Colonne 'Examen visuel' : 63 valeurs manquantes (NaN)\n",
            "Colonne 'Spirométrie' : 0 valeurs manquantes (NaN)\n",
            "Colonne 'Interprétation Spiro' : 0 valeurs manquantes (NaN)\n"
          ]
        }
      ]
    },
    {
      "cell_type": "code",
      "source": [
        "df.shape"
      ],
      "metadata": {
        "colab": {
          "base_uri": "https://localhost:8080/"
        },
        "id": "r_MwJOoV3N2C",
        "outputId": "441f4c3c-bdfc-4abf-81e8-42019df18b36"
      },
      "execution_count": 138,
      "outputs": [
        {
          "output_type": "execute_result",
          "data": {
            "text/plain": [
              "(79, 50)"
            ]
          },
          "metadata": {},
          "execution_count": 138
        }
      ]
    },
    {
      "cell_type": "code",
      "source": [
        "#remplacer la valeur - par la valeur inconnu dans l'attribut Mécanisme AT\n",
        "df['Mécanisme AT'] = df['Mécanisme AT'].replace('-', 'Inconnu')\n",
        "df['Interprétation Spiro'] = df['Interprétation Spiro'].replace('-', 'Inconnu')"
      ],
      "metadata": {
        "id": "cHaVOfUh48fv"
      },
      "execution_count": 139,
      "outputs": []
    },
    {
      "cell_type": "code",
      "source": [
        "df.info()"
      ],
      "metadata": {
        "colab": {
          "base_uri": "https://localhost:8080/"
        },
        "id": "Cw3Xrg0N5dN1",
        "outputId": "a215d76c-6a49-4389-ac34-e6a4f1652fca"
      },
      "execution_count": 142,
      "outputs": [
        {
          "output_type": "stream",
          "name": "stdout",
          "text": [
            "<class 'pandas.core.frame.DataFrame'>\n",
            "Index: 79 entries, 0 to 79\n",
            "Data columns (total 50 columns):\n",
            " #   Column                               Non-Null Count  Dtype  \n",
            "---  ------                               --------------  -----  \n",
            " 0   Age                                  79 non-null     object \n",
            " 1   Situation maritale                   79 non-null     object \n",
            " 2   Nb enfants                           79 non-null     object \n",
            " 3   Nb pers à charge                     50 non-null     object \n",
            " 4   Profession du mari                   57 non-null     object \n",
            " 5   Domicile                             79 non-null     object \n",
            " 6   Niveau socio-économique              53 non-null     object \n",
            " 7   Tabagisme                            77 non-null     object \n",
            " 8   Fumées de Tabouna                    78 non-null     object \n",
            " 9   Antécédents familiaux                65 non-null     object \n",
            " 10  q                                    79 non-null     object \n",
            " 11  Antécédent personnels: chirurgicaux  78 non-null     object \n",
            " 12  AT en milieu agricole                79 non-null     object \n",
            " 13  H travail / jour                     76 non-null     object \n",
            " 14  Mécanisme AT                         79 non-null     object \n",
            " 15  Ménopause                            79 non-null     object \n",
            " 16  Age ménopause                        28 non-null     object \n",
            " 17  Antécédents gynéco                   74 non-null     object \n",
            " 18  Ancienneté agricole                  76 non-null     object \n",
            " 19  Produits chimiques utilisés          39 non-null     object \n",
            " 20  Catégorie professionnelle            79 non-null     object \n",
            " 21  Statut                               71 non-null     object \n",
            " 22  Tâches effectuées                    79 non-null     object \n",
            " 23  Contraintes physiques                73 non-null     object \n",
            " 24  Engrais utilisés                     63 non-null     object \n",
            " 25  Produits biologiques utilisés        48 non-null     object \n",
            " 26  Contraintes thermiques               45 non-null     object \n",
            " 27  J travail / Sem                      75 non-null     object \n",
            " 28  Masque pour pesticides               79 non-null     object \n",
            " 29  Bottes                               79 non-null     object \n",
            " 30  Niveau scolaire                      78 non-null     object \n",
            " 31  Gants                                79 non-null     object \n",
            " 32  Casquette/Mdhalla                    79 non-null     object \n",
            " 33  Manteau imperméable                  79 non-null     object \n",
            " 34  Moyen de transport                   78 non-null     object \n",
            " 35  Troubles cardio-respiratoires        33 non-null     object \n",
            " 36  Troubles cognitifs                   17 non-null     object \n",
            " 37  Troubles neurologiques               35 non-null     object \n",
            " 38  Troubles cutanés/phanères            14 non-null     object \n",
            " 39  Autres plaintes:                     27 non-null     object \n",
            " 40  Poids                                79 non-null     int64  \n",
            " 41  Taille                               79 non-null     int64  \n",
            " 42  TAS                                  79 non-null     int64  \n",
            " 43  TAD                                  79 non-null     int64  \n",
            " 44  GAD                                  79 non-null     float64\n",
            " 45  Examen des membres supérieurs        13 non-null     object \n",
            " 46  Examen du rachis                     20 non-null     object \n",
            " 47  Examen visuel                        16 non-null     object \n",
            " 48  Spirométrie                          79 non-null     object \n",
            " 49  Interprétation Spiro                 79 non-null     object \n",
            "dtypes: float64(1), int64(4), object(45)\n",
            "memory usage: 31.5+ KB\n"
          ]
        }
      ]
    },
    {
      "cell_type": "code",
      "source": [
        "#remplacer la valeur 'froid,chaleur' par nan\n",
        "df['Contraintes thermiques']=df['Contraintes thermiques'].replace('froid, chaleur',np.nan)"
      ],
      "metadata": {
        "id": "LJ9Jg_5Y7Z1Y"
      },
      "execution_count": 147,
      "outputs": []
    },
    {
      "cell_type": "code",
      "source": [
        "df['Taille_m'] = df['Taille'] / 100\n",
        "df['BMI'] = df['Poids'] / (df['Taille_m'] ** 2)"
      ],
      "metadata": {
        "id": "zs3GSOQh9LDf"
      },
      "execution_count": 149,
      "outputs": []
    },
    {
      "cell_type": "code",
      "source": [
        "# remplacer les valeur des Nan par la valeur précèdente\n",
        "df = df.fillna(method='ffill')"
      ],
      "metadata": {
        "colab": {
          "base_uri": "https://localhost:8080/"
        },
        "id": "iesljrvw-MF8",
        "outputId": "bbef2994-ca8a-40d7-cc21-4eb074f7c60c"
      },
      "execution_count": 151,
      "outputs": [
        {
          "output_type": "stream",
          "name": "stderr",
          "text": [
            "<ipython-input-151-2c428d02cf67>:1: FutureWarning: DataFrame.fillna with 'method' is deprecated and will raise in a future version. Use obj.ffill() or obj.bfill() instead.\n",
            "  df = df.fillna(method='ffill')\n"
          ]
        }
      ]
    },
    {
      "cell_type": "code",
      "source": [
        "# voir les Nan pour tous les attributs\n",
        "for column in df.columns:\n",
        "    nan_count = df[column].isna().sum()\n",
        "    print(f\"Colonne '{column}' : {nan_count} valeurs manquantes (NaN)\")"
      ],
      "metadata": {
        "colab": {
          "base_uri": "https://localhost:8080/"
        },
        "id": "wWKAx1w0EB2B",
        "outputId": "24c491a5-ecf9-4d71-d34e-df6e442f1bc9"
      },
      "execution_count": 152,
      "outputs": [
        {
          "output_type": "stream",
          "name": "stdout",
          "text": [
            "Colonne 'Age' : 0 valeurs manquantes (NaN)\n",
            "Colonne 'Situation maritale' : 0 valeurs manquantes (NaN)\n",
            "Colonne 'Nb enfants' : 0 valeurs manquantes (NaN)\n",
            "Colonne 'Nb pers à charge' : 0 valeurs manquantes (NaN)\n",
            "Colonne 'Profession du mari' : 1 valeurs manquantes (NaN)\n",
            "Colonne 'Domicile' : 0 valeurs manquantes (NaN)\n",
            "Colonne 'Niveau socio-économique' : 1 valeurs manquantes (NaN)\n",
            "Colonne 'Tabagisme' : 0 valeurs manquantes (NaN)\n",
            "Colonne 'Fumées de Tabouna' : 0 valeurs manquantes (NaN)\n",
            "Colonne 'Antécédents familiaux' : 0 valeurs manquantes (NaN)\n",
            "Colonne 'q' : 0 valeurs manquantes (NaN)\n",
            "Colonne 'Antécédent personnels: chirurgicaux' : 0 valeurs manquantes (NaN)\n",
            "Colonne 'AT en milieu agricole' : 0 valeurs manquantes (NaN)\n",
            "Colonne 'H travail / jour' : 0 valeurs manquantes (NaN)\n",
            "Colonne 'Mécanisme AT' : 0 valeurs manquantes (NaN)\n",
            "Colonne 'Ménopause' : 0 valeurs manquantes (NaN)\n",
            "Colonne 'Age ménopause' : 0 valeurs manquantes (NaN)\n",
            "Colonne 'Antécédents gynéco' : 1 valeurs manquantes (NaN)\n",
            "Colonne 'Ancienneté agricole' : 0 valeurs manquantes (NaN)\n",
            "Colonne 'Produits chimiques utilisés' : 0 valeurs manquantes (NaN)\n",
            "Colonne 'Catégorie professionnelle' : 0 valeurs manquantes (NaN)\n",
            "Colonne 'Statut' : 0 valeurs manquantes (NaN)\n",
            "Colonne 'Tâches effectuées' : 0 valeurs manquantes (NaN)\n",
            "Colonne 'Contraintes physiques' : 0 valeurs manquantes (NaN)\n",
            "Colonne 'Engrais utilisés' : 0 valeurs manquantes (NaN)\n",
            "Colonne 'Produits biologiques utilisés' : 0 valeurs manquantes (NaN)\n",
            "Colonne 'Contraintes thermiques' : 79 valeurs manquantes (NaN)\n",
            "Colonne 'J travail / Sem' : 0 valeurs manquantes (NaN)\n",
            "Colonne 'Masque pour pesticides' : 0 valeurs manquantes (NaN)\n",
            "Colonne 'Bottes' : 0 valeurs manquantes (NaN)\n",
            "Colonne 'Niveau scolaire' : 0 valeurs manquantes (NaN)\n",
            "Colonne 'Gants' : 0 valeurs manquantes (NaN)\n",
            "Colonne 'Casquette/Mdhalla' : 0 valeurs manquantes (NaN)\n",
            "Colonne 'Manteau imperméable' : 0 valeurs manquantes (NaN)\n",
            "Colonne 'Moyen de transport' : 0 valeurs manquantes (NaN)\n",
            "Colonne 'Troubles cardio-respiratoires' : 0 valeurs manquantes (NaN)\n",
            "Colonne 'Troubles cognitifs' : 5 valeurs manquantes (NaN)\n",
            "Colonne 'Troubles neurologiques' : 0 valeurs manquantes (NaN)\n",
            "Colonne 'Troubles cutanés/phanères' : 29 valeurs manquantes (NaN)\n",
            "Colonne 'Autres plaintes:' : 3 valeurs manquantes (NaN)\n",
            "Colonne 'Poids' : 0 valeurs manquantes (NaN)\n",
            "Colonne 'Taille' : 0 valeurs manquantes (NaN)\n",
            "Colonne 'TAS' : 0 valeurs manquantes (NaN)\n",
            "Colonne 'TAD' : 0 valeurs manquantes (NaN)\n",
            "Colonne 'GAD' : 0 valeurs manquantes (NaN)\n",
            "Colonne 'Examen des membres supérieurs' : 2 valeurs manquantes (NaN)\n",
            "Colonne 'Examen du rachis' : 1 valeurs manquantes (NaN)\n",
            "Colonne 'Examen visuel' : 1 valeurs manquantes (NaN)\n",
            "Colonne 'Spirométrie' : 0 valeurs manquantes (NaN)\n",
            "Colonne 'Interprétation Spiro' : 0 valeurs manquantes (NaN)\n",
            "Colonne 'Taille_m' : 0 valeurs manquantes (NaN)\n",
            "Colonne 'BMI' : 0 valeurs manquantes (NaN)\n"
          ]
        }
      ]
    },
    {
      "cell_type": "code",
      "source": [
        "df = df.apply(lambda row: row.fillna(method='ffill'), axis=1) #remplacer les Nan sur les lignes avec la valeur précédente"
      ],
      "metadata": {
        "colab": {
          "base_uri": "https://localhost:8080/"
        },
        "id": "eOskdmEAFFoY",
        "outputId": "2436be3f-36a0-49c5-e42a-706b2211aec6"
      },
      "execution_count": 154,
      "outputs": [
        {
          "output_type": "stream",
          "name": "stderr",
          "text": [
            "<ipython-input-154-ec2a568c1a66>:1: FutureWarning: Series.fillna with 'method' is deprecated and will raise in a future version. Use obj.ffill() or obj.bfill() instead.\n",
            "  df = df.apply(lambda row: row.fillna(method='ffill'), axis=1)\n"
          ]
        }
      ]
    },
    {
      "cell_type": "code",
      "source": [
        "for column in df.columns:\n",
        "    nan_count = df[column].isna().sum()\n",
        "    print(f\"Colonne '{column}' : {nan_count} valeurs manquantes (NaN)\")"
      ],
      "metadata": {
        "colab": {
          "base_uri": "https://localhost:8080/"
        },
        "id": "8nBujWUiFKGD",
        "outputId": "51e67956-eef4-4117-c6ce-466f41f2e275"
      },
      "execution_count": 155,
      "outputs": [
        {
          "output_type": "stream",
          "name": "stdout",
          "text": [
            "Colonne 'Age' : 0 valeurs manquantes (NaN)\n",
            "Colonne 'Situation maritale' : 0 valeurs manquantes (NaN)\n",
            "Colonne 'Nb enfants' : 0 valeurs manquantes (NaN)\n",
            "Colonne 'Nb pers à charge' : 0 valeurs manquantes (NaN)\n",
            "Colonne 'Profession du mari' : 0 valeurs manquantes (NaN)\n",
            "Colonne 'Domicile' : 0 valeurs manquantes (NaN)\n",
            "Colonne 'Niveau socio-économique' : 0 valeurs manquantes (NaN)\n",
            "Colonne 'Tabagisme' : 0 valeurs manquantes (NaN)\n",
            "Colonne 'Fumées de Tabouna' : 0 valeurs manquantes (NaN)\n",
            "Colonne 'Antécédents familiaux' : 0 valeurs manquantes (NaN)\n",
            "Colonne 'q' : 0 valeurs manquantes (NaN)\n",
            "Colonne 'Antécédent personnels: chirurgicaux' : 0 valeurs manquantes (NaN)\n",
            "Colonne 'AT en milieu agricole' : 0 valeurs manquantes (NaN)\n",
            "Colonne 'H travail / jour' : 0 valeurs manquantes (NaN)\n",
            "Colonne 'Mécanisme AT' : 0 valeurs manquantes (NaN)\n",
            "Colonne 'Ménopause' : 0 valeurs manquantes (NaN)\n",
            "Colonne 'Age ménopause' : 0 valeurs manquantes (NaN)\n",
            "Colonne 'Antécédents gynéco' : 0 valeurs manquantes (NaN)\n",
            "Colonne 'Ancienneté agricole' : 0 valeurs manquantes (NaN)\n",
            "Colonne 'Produits chimiques utilisés' : 0 valeurs manquantes (NaN)\n",
            "Colonne 'Catégorie professionnelle' : 0 valeurs manquantes (NaN)\n",
            "Colonne 'Statut' : 0 valeurs manquantes (NaN)\n",
            "Colonne 'Tâches effectuées' : 0 valeurs manquantes (NaN)\n",
            "Colonne 'Contraintes physiques' : 0 valeurs manquantes (NaN)\n",
            "Colonne 'Engrais utilisés' : 0 valeurs manquantes (NaN)\n",
            "Colonne 'Produits biologiques utilisés' : 0 valeurs manquantes (NaN)\n",
            "Colonne 'Contraintes thermiques' : 0 valeurs manquantes (NaN)\n",
            "Colonne 'J travail / Sem' : 0 valeurs manquantes (NaN)\n",
            "Colonne 'Masque pour pesticides' : 0 valeurs manquantes (NaN)\n",
            "Colonne 'Bottes' : 0 valeurs manquantes (NaN)\n",
            "Colonne 'Niveau scolaire' : 0 valeurs manquantes (NaN)\n",
            "Colonne 'Gants' : 0 valeurs manquantes (NaN)\n",
            "Colonne 'Casquette/Mdhalla' : 0 valeurs manquantes (NaN)\n",
            "Colonne 'Manteau imperméable' : 0 valeurs manquantes (NaN)\n",
            "Colonne 'Moyen de transport' : 0 valeurs manquantes (NaN)\n",
            "Colonne 'Troubles cardio-respiratoires' : 0 valeurs manquantes (NaN)\n",
            "Colonne 'Troubles cognitifs' : 0 valeurs manquantes (NaN)\n",
            "Colonne 'Troubles neurologiques' : 0 valeurs manquantes (NaN)\n",
            "Colonne 'Troubles cutanés/phanères' : 0 valeurs manquantes (NaN)\n",
            "Colonne 'Autres plaintes:' : 0 valeurs manquantes (NaN)\n",
            "Colonne 'Poids' : 0 valeurs manquantes (NaN)\n",
            "Colonne 'Taille' : 0 valeurs manquantes (NaN)\n",
            "Colonne 'TAS' : 0 valeurs manquantes (NaN)\n",
            "Colonne 'TAD' : 0 valeurs manquantes (NaN)\n",
            "Colonne 'GAD' : 0 valeurs manquantes (NaN)\n",
            "Colonne 'Examen des membres supérieurs' : 0 valeurs manquantes (NaN)\n",
            "Colonne 'Examen du rachis' : 0 valeurs manquantes (NaN)\n",
            "Colonne 'Examen visuel' : 0 valeurs manquantes (NaN)\n",
            "Colonne 'Spirométrie' : 0 valeurs manquantes (NaN)\n",
            "Colonne 'Interprétation Spiro' : 0 valeurs manquantes (NaN)\n",
            "Colonne 'Taille_m' : 0 valeurs manquantes (NaN)\n",
            "Colonne 'BMI' : 0 valeurs manquantes (NaN)\n"
          ]
        }
      ]
    },
    {
      "cell_type": "code",
      "source": [
        "#save dataset after modifications\n",
        "df.to_csv('/content/final_Dataset2.csv',index=False)"
      ],
      "metadata": {
        "id": "FtAuJP0vEbQX"
      },
      "execution_count": 156,
      "outputs": []
    }
  ]
}